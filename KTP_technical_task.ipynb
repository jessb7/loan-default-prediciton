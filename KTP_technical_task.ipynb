{
 "cells": [
  {
   "cell_type": "code",
   "execution_count": 24,
   "id": "e9e63519",
   "metadata": {},
   "outputs": [],
   "source": [
    "import pandas as pd\n",
    "import numpy as np\n",
    "import pickle\n",
    "import seaborn as sns\n",
    "import matplotlib.pyplot as plt\n",
    "import streamlit as st\n",
    "\n",
    "from sklearn.feature_selection import RFE, RFECV\n",
    "from sklearn.preprocessing import MinMaxScaler\n",
    "from sklearn.model_selection import train_test_split\n",
    "from sklearn.model_selection import cross_val_score\n",
    "from sklearn.model_selection import RepeatedStratifiedKFold\n",
    "from sklearn.tree import DecisionTreeClassifier\n",
    "from sklearn.linear_model import LogisticRegression\n",
    "from sklearn.ensemble import RandomForestClassifier\n",
    "from sklearn.metrics import classification_report, confusion_matrix\n",
    "from sklearn.pipeline import Pipeline\n",
    "\n",
    "pd.set_option('display.max_columns',36)"
   ]
  },
  {
   "cell_type": "markdown",
   "id": "a82860dd",
   "metadata": {},
   "source": [
    "Once you’ve built your model, use an open-source app framework of your choice (e.g., Streamlit, Hex, etc) to turn your algorithm into a data-app that can be used to illustrate your model (e.g., inputs, outputs, visualizations, etc). You are free to illustrate your model via the data-app in whatever way you think is suitable. Think of business users as your audience.\n",
    "\n",
    "Please include in your solution answers to the following questions:\n",
    "1. In two or three paragraphs, please describe your methodological approach to the problem (e.g., how you framed the problem, any assumptions you made, why you chose certain techniques, etc). If applicable, please include any references to the literature that you used.\n",
    "2. In 3 bullet points, please explain what feedback you'd give to the engineering team responsible for the data API to help them improve any aspect of the tool that you think would benefit.\n",
    "3. In 3 bullet points, please give guidance to the business regarding any suggestions you'd give them for using this model in production.\n",
    "4. What two things would you do to improve this test? One line for each."
   ]
  },
  {
   "cell_type": "code",
   "execution_count": 2,
   "id": "7f1804d0",
   "metadata": {},
   "outputs": [],
   "source": [
    "df = pd.read_csv('Technical_Task_Dataset.csv')"
   ]
  },
  {
   "cell_type": "markdown",
   "id": "24470395",
   "metadata": {},
   "source": [
    "The data set seems to have some misentered data, with post codes in the Latest Accounts Date and negative numbers in the Account Year. To address this, I restircted the Account Year variable to values between 1900 and 2023 (it appears 1983 is the first so this covers all available  data). The variables types were then automatically detected and checked."
   ]
  },
  {
   "cell_type": "code",
   "execution_count": 3,
   "id": "330ad153",
   "metadata": {},
   "outputs": [
    {
     "data": {
      "text/plain": [
       "(68575, 36)"
      ]
     },
     "metadata": {},
     "output_type": "display_data"
    },
    {
     "name": "stdout",
     "output_type": "stream",
     "text": [
      "<class 'pandas.core.frame.DataFrame'>\n",
      "Int64Index: 68575 entries, 0 to 68649\n",
      "Data columns (total 36 columns):\n",
      " #   Column                                           Non-Null Count  Dtype  \n",
      "---  ------                                           --------------  -----  \n",
      " 0   Registered Number                                68575 non-null  string \n",
      " 1   Date of Incorporation                            68570 non-null  string \n",
      " 2   Latest Accounts Date                             68575 non-null  string \n",
      " 3   Account Year                                     68575 non-null  Int64  \n",
      " 4   Trading Status                                   68575 non-null  string \n",
      " 5   UK SIC Code                                      68575 non-null  Int64  \n",
      " 6   Registered or Trading Postcode                   68490 non-null  string \n",
      " 7   Bank Overdraft                                   35944 non-null  Int64  \n",
      " 8   Bank Postcode                                    28960 non-null  string \n",
      " 9   Capital Expenditure                              44136 non-null  Int64  \n",
      " 10  Cash At Bank                                     63984 non-null  Float64\n",
      " 11  Director Loans (current)                         22101 non-null  Int64  \n",
      " 12  Director Loans (non-current)                     52467 non-null  Int64  \n",
      " 13  Directors Remuneration                           50047 non-null  Int64  \n",
      " 14  EBIT                                             56161 non-null  Int64  \n",
      " 15  EBITDA                                           56161 non-null  Int64  \n",
      " 16  EBITDA + Directors Remuneration                  56161 non-null  Int64  \n",
      " 17  Employees Remuneration                           49506 non-null  Int64  \n",
      " 18  Highest Paid Director                            28889 non-null  Int64  \n",
      " 19  Intangible Assets                                64216 non-null  Int64  \n",
      " 20  Interest Expense                                 56105 non-null  Int64  \n",
      " 21  Leasehold                                        44033 non-null  Int64  \n",
      " 22  Number of Employees                              52773 non-null  Int64  \n",
      " 23  Profit Before Tax + Directors Remuneration       56161 non-null  Int64  \n",
      " 24  Profit For The Year                              56161 non-null  Int64  \n",
      " 25  Property, Plant & Equipment                      64441 non-null  Int64  \n",
      " 26  Retained Earnings                                64624 non-null  Int64  \n",
      " 27  Total Assets                                     61990 non-null  Float64\n",
      " 28  Total Current Assets                             64677 non-null  Float64\n",
      " 29  Total Current Liabilities                        64677 non-null  Int64  \n",
      " 30  Total Equity                                     64677 non-null  Int64  \n",
      " 31  Total Non Current Assets                         64672 non-null  Float64\n",
      " 32  Total Non Current Liabilities (Incl Provisions)  64670 non-null  Float64\n",
      " 33  Total Sales / Turnover                           54602 non-null  Int64  \n",
      " 34  Wages                                            45798 non-null  Int64  \n",
      " 35  Working Capital                                  64665 non-null  Float64\n",
      "dtypes: Float64(6), Int64(24), string(6)\n",
      "memory usage: 21.3 MB\n"
     ]
    }
   ],
   "source": [
    "df2 = df[df.index.isin(df.query('1900 < `Account Year` < 2023').index)]\n",
    "display(df2.shape)\n",
    "\n",
    "df2=df2.convert_dtypes()\n",
    "df2.info()"
   ]
  },
  {
   "cell_type": "markdown",
   "id": "0ad5816d",
   "metadata": {},
   "source": [
    "The next step was to convert the dates to a datetime. The for loop below checks all strings and converts those that do not return a value error to datetime64[ns]."
   ]
  },
  {
   "cell_type": "code",
   "execution_count": 4,
   "id": "27744862",
   "metadata": {},
   "outputs": [
    {
     "name": "stdout",
     "output_type": "stream",
     "text": [
      "<class 'pandas.core.frame.DataFrame'>\n",
      "Int64Index: 68575 entries, 0 to 68649\n",
      "Data columns (total 36 columns):\n",
      " #   Column                                           Non-Null Count  Dtype         \n",
      "---  ------                                           --------------  -----         \n",
      " 0   Registered Number                                68575 non-null  string        \n",
      " 1   Date of Incorporation                            68570 non-null  datetime64[ns]\n",
      " 2   Latest Accounts Date                             68575 non-null  datetime64[ns]\n",
      " 3   Account Year                                     68575 non-null  Int64         \n",
      " 4   Trading Status                                   68575 non-null  string        \n",
      " 5   UK SIC Code                                      68575 non-null  Int64         \n",
      " 6   Registered or Trading Postcode                   68490 non-null  string        \n",
      " 7   Bank Overdraft                                   35944 non-null  Int64         \n",
      " 8   Bank Postcode                                    28960 non-null  string        \n",
      " 9   Capital Expenditure                              44136 non-null  Int64         \n",
      " 10  Cash At Bank                                     63984 non-null  Float64       \n",
      " 11  Director Loans (current)                         22101 non-null  Int64         \n",
      " 12  Director Loans (non-current)                     52467 non-null  Int64         \n",
      " 13  Directors Remuneration                           50047 non-null  Int64         \n",
      " 14  EBIT                                             56161 non-null  Int64         \n",
      " 15  EBITDA                                           56161 non-null  Int64         \n",
      " 16  EBITDA + Directors Remuneration                  56161 non-null  Int64         \n",
      " 17  Employees Remuneration                           49506 non-null  Int64         \n",
      " 18  Highest Paid Director                            28889 non-null  Int64         \n",
      " 19  Intangible Assets                                64216 non-null  Int64         \n",
      " 20  Interest Expense                                 56105 non-null  Int64         \n",
      " 21  Leasehold                                        44033 non-null  Int64         \n",
      " 22  Number of Employees                              52773 non-null  Int64         \n",
      " 23  Profit Before Tax + Directors Remuneration       56161 non-null  Int64         \n",
      " 24  Profit For The Year                              56161 non-null  Int64         \n",
      " 25  Property, Plant & Equipment                      64441 non-null  Int64         \n",
      " 26  Retained Earnings                                64624 non-null  Int64         \n",
      " 27  Total Assets                                     61990 non-null  Float64       \n",
      " 28  Total Current Assets                             64677 non-null  Float64       \n",
      " 29  Total Current Liabilities                        64677 non-null  Int64         \n",
      " 30  Total Equity                                     64677 non-null  Int64         \n",
      " 31  Total Non Current Assets                         64672 non-null  Float64       \n",
      " 32  Total Non Current Liabilities (Incl Provisions)  64670 non-null  Float64       \n",
      " 33  Total Sales / Turnover                           54602 non-null  Int64         \n",
      " 34  Wages                                            45798 non-null  Int64         \n",
      " 35  Working Capital                                  64665 non-null  Float64       \n",
      "dtypes: Float64(6), Int64(24), datetime64[ns](2), string(4)\n",
      "memory usage: 21.3 MB\n"
     ]
    }
   ],
   "source": [
    "df3 = df2.copy()\n",
    "for col in df3.columns:\n",
    "    if df3[col].dtype == 'string':\n",
    "        try:\n",
    "            df3[col] = pd.to_datetime(df2[col])\n",
    "        except ValueError:\n",
    "            pass\n",
    "df3.info()"
   ]
  },
  {
   "cell_type": "markdown",
   "id": "832ab2c2",
   "metadata": {},
   "source": [
    "Next the data is restricted to only the last financial year (i.e., \"Account Year\" = year in \"Latest Accounts Date\")."
   ]
  },
  {
   "cell_type": "code",
   "execution_count": 5,
   "id": "dc8090e9",
   "metadata": {},
   "outputs": [
    {
     "name": "stderr",
     "output_type": "stream",
     "text": [
      "C:\\Users\\Brandi\\AppData\\Local\\Temp/ipykernel_10600/3681883468.py:2: SettingWithCopyWarning: \n",
      "A value is trying to be set on a copy of a slice from a DataFrame.\n",
      "Try using .loc[row_indexer,col_indexer] = value instead\n",
      "\n",
      "See the caveats in the documentation: https://pandas.pydata.org/pandas-docs/stable/user_guide/indexing.html#returning-a-view-versus-a-copy\n",
      "  df4['Years'] = df4['Account Year']-df4['Date of Incorporation'].dt.year\n",
      "C:\\Users\\Brandi\\AppData\\Local\\Temp/ipykernel_10600/3681883468.py:3: SettingWithCopyWarning: \n",
      "A value is trying to be set on a copy of a slice from a DataFrame.\n",
      "Try using .loc[row_indexer,col_indexer] = value instead\n",
      "\n",
      "See the caveats in the documentation: https://pandas.pydata.org/pandas-docs/stable/user_guide/indexing.html#returning-a-view-versus-a-copy\n",
      "  df4['Years']= df4['Years'].astype(int)\n"
     ]
    },
    {
     "data": {
      "text/plain": [
       "(13715, 37)"
      ]
     },
     "execution_count": 5,
     "metadata": {},
     "output_type": "execute_result"
    }
   ],
   "source": [
    "df4 = df3[df3['Latest Accounts Date'].dt.year==df3['Account Year']]\n",
    "df4['Years'] = df4['Account Year']-df4['Date of Incorporation'].dt.year\n",
    "df4['Years']= df4['Years'].astype(int)\n",
    "df4.shape"
   ]
  },
  {
   "cell_type": "code",
   "execution_count": 6,
   "id": "d34ec231",
   "metadata": {},
   "outputs": [
    {
     "name": "stdout",
     "output_type": "stream",
     "text": [
      "<class 'pandas.core.frame.DataFrame'>\n",
      "Int64Index: 13715 entries, 0 to 68645\n",
      "Data columns (total 37 columns):\n",
      " #   Column                                           Non-Null Count  Dtype         \n",
      "---  ------                                           --------------  -----         \n",
      " 0   Registered Number                                13715 non-null  string        \n",
      " 1   Date of Incorporation                            13714 non-null  datetime64[ns]\n",
      " 2   Latest Accounts Date                             13715 non-null  datetime64[ns]\n",
      " 3   Account Year                                     13715 non-null  Int64         \n",
      " 4   Trading Status                                   13715 non-null  string        \n",
      " 5   UK SIC Code                                      13715 non-null  Int64         \n",
      " 6   Registered or Trading Postcode                   13698 non-null  string        \n",
      " 7   Bank Overdraft                                   6314 non-null   Int64         \n",
      " 8   Bank Postcode                                    5792 non-null   string        \n",
      " 9   Capital Expenditure                              9314 non-null   Int64         \n",
      " 10  Cash At Bank                                     13526 non-null  Float64       \n",
      " 11  Director Loans (current)                         4146 non-null   Int64         \n",
      " 12  Director Loans (non-current)                     11126 non-null  Int64         \n",
      " 13  Directors Remuneration                           10271 non-null  Int64         \n",
      " 14  EBIT                                             11879 non-null  Int64         \n",
      " 15  EBITDA                                           11879 non-null  Int64         \n",
      " 16  EBITDA + Directors Remuneration                  11879 non-null  Int64         \n",
      " 17  Employees Remuneration                           10597 non-null  Int64         \n",
      " 18  Highest Paid Director                            6043 non-null   Int64         \n",
      " 19  Intangible Assets                                13482 non-null  Int64         \n",
      " 20  Interest Expense                                 11869 non-null  Int64         \n",
      " 21  Leasehold                                        9561 non-null   Int64         \n",
      " 22  Number of Employees                              11941 non-null  Int64         \n",
      " 23  Profit Before Tax + Directors Remuneration       11879 non-null  Int64         \n",
      " 24  Profit For The Year                              11879 non-null  Int64         \n",
      " 25  Property, Plant & Equipment                      13610 non-null  Int64         \n",
      " 26  Retained Earnings                                13666 non-null  Int64         \n",
      " 27  Total Assets                                     13061 non-null  Float64       \n",
      " 28  Total Current Assets                             13700 non-null  Float64       \n",
      " 29  Total Current Liabilities                        13700 non-null  Int64         \n",
      " 30  Total Equity                                     13700 non-null  Int64         \n",
      " 31  Total Non Current Assets                         13699 non-null  Float64       \n",
      " 32  Total Non Current Liabilities (Incl Provisions)  13698 non-null  Float64       \n",
      " 33  Total Sales / Turnover                           11590 non-null  Int64         \n",
      " 34  Wages                                            9983 non-null   Int64         \n",
      " 35  Working Capital                                  13695 non-null  Float64       \n",
      " 36  Years                                            13715 non-null  int32         \n",
      "dtypes: Float64(6), Int64(24), datetime64[ns](2), int32(1), string(4)\n",
      "memory usage: 4.3 MB\n"
     ]
    }
   ],
   "source": [
    "df4.info()"
   ]
  },
  {
   "cell_type": "markdown",
   "id": "48367513",
   "metadata": {},
   "source": [
    "Then the Trading Status is recoded to have 2 classes: Default or Non-default."
   ]
  },
  {
   "cell_type": "code",
   "execution_count": 7,
   "id": "d1f59183",
   "metadata": {
    "scrolled": true
   },
   "outputs": [
    {
     "data": {
      "text/plain": [
       "Active                     10746\n",
       "Dissolved                   2652\n",
       "Liquidated/Receivership      317\n",
       "Name: Trading Status, dtype: Int64"
      ]
     },
     "execution_count": 7,
     "metadata": {},
     "output_type": "execute_result"
    }
   ],
   "source": [
    "df4['Trading Status'].value_counts()"
   ]
  },
  {
   "cell_type": "code",
   "execution_count": 8,
   "id": "725d9c3a",
   "metadata": {},
   "outputs": [],
   "source": [
    "df5 = df4.copy()\n",
    "df5['Trading Status'] = np.where(df5['Trading Status'] == 'Active', \"Non-default\", \"Default\")"
   ]
  },
  {
   "cell_type": "markdown",
   "id": "69b23e93",
   "metadata": {},
   "source": [
    "The variables are then examined using a correlation plot to see if we can reduce the features. The key variables to examine from this are:\n",
    "\n",
    "- EBITDA + Directors Remuneration\n",
    "- Profit Before Tax + Directors Remuneration\n",
    "- Profit For The Year\n",
    "- Total Assets\n",
    "- Working Capital"
   ]
  },
  {
   "cell_type": "code",
   "execution_count": 11,
   "id": "232eea50",
   "metadata": {
    "scrolled": false
   },
   "outputs": [
    {
     "data": {
      "image/png": "[encoded data removed]",
      "text/plain": [
       "<Figure size 792x648 with 2 Axes>"
      ]
     },
     "metadata": {
      "needs_background": "light"
     },
     "output_type": "display_data"
    }
   ],
   "source": [
    "corr = df5.corr()\n",
    "mask = np.triu(np.ones_like(corr, dtype=bool))\n",
    "f, ax = plt.subplots(figsize=(11, 9))\n",
    "cmap = sns.diverging_palette(230, 20, as_cmap=True)\n",
    "sns.heatmap(corr, mask=mask, cmap=cmap, vmin=-1, vmax=1, center=0,\n",
    "            square=True, linewidths=.5, cbar_kws={\"shrink\": .5})\n",
    "plt.show()"
   ]
  },
  {
   "cell_type": "markdown",
   "id": "7023c91f",
   "metadata": {},
   "source": [
    "According to my searches, some vairables of interest include:\n",
    "\n",
    "- working capital (current assets - current liabilities)\n",
    "- total equity (total assets - total liability)\n",
    "- \n",
    "\n",
    "\n",
    "\n",
    "For Directors Remuneration, this can be calculated directly by subtracting EBITDA from EBITDA + Directors Remuneration. There are 3444 missing, once filled this reduces to 1732.\n",
    "\n",
    "For Total Assets, this can be calculated directly by adding Total Current Assets and Total Non Current Assets."
   ]
  },
  {
   "cell_type": "code",
   "execution_count": 12,
   "id": "f6ae9213",
   "metadata": {},
   "outputs": [],
   "source": [
    "df5['Directors Remuneration'].fillna(df5['EBITDA + Directors Remuneration'] - df5['EBITDA'], inplace=True)\n",
    "df5['Total Assets'].fillna(df5['Total Current Assets'] + df5['Total Non Current Assets'], inplace=True)\n",
    "df5['Working Capital'].fillna(df5['Total Current Assets'] + df5['Total Current Liabilities'], inplace=True)"
   ]
  },
  {
   "cell_type": "markdown",
   "id": "382ffb97",
   "metadata": {},
   "source": [
    "Check how much data is missing from each column."
   ]
  },
  {
   "cell_type": "code",
   "execution_count": 13,
   "id": "cc4b4eee",
   "metadata": {
    "scrolled": true
   },
   "outputs": [
    {
     "data": {
      "text/plain": [
       "Registered Number                                     0\n",
       "UK SIC Code                                           0\n",
       "Trading Status                                        0\n",
       "Years                                                 0\n",
       "Latest Accounts Date                                  0\n",
       "Account Year                                          0\n",
       "Date of Incorporation                                 1\n",
       "Total Equity                                         15\n",
       "Total Current Liabilities                            15\n",
       "Total Current Assets                                 15\n",
       "Working Capital                                      15\n",
       "Total Non Current Assets                             16\n",
       "Total Assets                                         16\n",
       "Registered or Trading Postcode                       17\n",
       "Total Non Current Liabilities (Incl Provisions)      17\n",
       "Retained Earnings                                    49\n",
       "Property, Plant & Equipment                         105\n",
       "Cash At Bank                                        189\n",
       "Intangible Assets                                   233\n",
       "Directors Remuneration                             1732\n",
       "Number of Employees                                1774\n",
       "EBITDA                                             1836\n",
       "Profit For The Year                                1836\n",
       "Profit Before Tax + Directors Remuneration         1836\n",
       "EBITDA + Directors Remuneration                    1836\n",
       "EBIT                                               1836\n",
       "Interest Expense                                   1846\n",
       "Total Sales / Turnover                             2125\n",
       "Director Loans (non-current)                       2589\n",
       "Employees Remuneration                             3118\n",
       "Wages                                              3732\n",
       "Leasehold                                          4154\n",
       "Capital Expenditure                                4401\n",
       "Bank Overdraft                                     7401\n",
       "Highest Paid Director                              7672\n",
       "Bank Postcode                                      7923\n",
       "Director Loans (current)                           9569\n",
       "dtype: int64"
      ]
     },
     "execution_count": 13,
     "metadata": {},
     "output_type": "execute_result"
    }
   ],
   "source": [
    "df5.isna().sum().sort_values()"
   ]
  },
  {
   "cell_type": "markdown",
   "id": "24e6add8",
   "metadata": {},
   "source": [
    "I then drop the EBITDA + Directors Remuneration column as this is a combination of two other columns. I have also chosen to drop registered number as this is a unique number for each business, as well as the postcodes."
   ]
  },
  {
   "cell_type": "code",
   "execution_count": 28,
   "id": "e9312f07",
   "metadata": {},
   "outputs": [],
   "source": [
    "df6 = df5.drop(columns=['Registered Number','Account Year', 'Date of Incorporation', 'UK SIC Code',\n",
    "                                'Bank Postcode', 'Registered or Trading Postcode', 'EBITDA + Directors Remuneration',\n",
    "                                'Director Loans (current)', 'Director Loans (non-current)', 'Highest Paid Director ',\n",
    "                                'Latest Accounts Date', 'Profit Before Tax + Directors Remuneration',\n",
    "                                'EBIT', 'Highest Paid Director ', 'Total Non Current Liabilities (Incl Provisions)', \n",
    "                                'Wages', 'Working Capital', 'Leasehold', 'Bank Overdraft', 'Capital Expenditure'])"
   ]
  },
  {
   "cell_type": "code",
   "execution_count": 31,
   "id": "02b29560",
   "metadata": {},
   "outputs": [
    {
     "data": {
      "text/plain": [
       "Trading Status                    0\n",
       "Cash At Bank                    189\n",
       "Directors Remuneration         1732\n",
       "EBITDA                         1836\n",
       "Employees Remuneration         3118\n",
       "Intangible Assets               233\n",
       "Interest Expense               1846\n",
       "Number of Employees            1774\n",
       "Profit For The Year            1836\n",
       "Property, Plant & Equipment     105\n",
       "Retained Earnings                49\n",
       "Total Assets                     16\n",
       "Total Current Assets             15\n",
       "Total Current Liabilities        15\n",
       "Total Equity                     15\n",
       "Total Non Current Assets         16\n",
       "Total Sales / Turnover         2125\n",
       "Years                             0\n",
       "dtype: int64"
      ]
     },
     "execution_count": 31,
     "metadata": {},
     "output_type": "execute_result"
    }
   ],
   "source": [
    "df6.isna().sum()"
   ]
  },
  {
   "cell_type": "code",
   "execution_count": 29,
   "id": "9a63047c",
   "metadata": {
    "scrolled": true
   },
   "outputs": [],
   "source": [
    "df7 = df6.dropna(how='any')"
   ]
  },
  {
   "cell_type": "code",
   "execution_count": 32,
   "id": "1c4c9234",
   "metadata": {},
   "outputs": [],
   "source": [
    "xdf = df7.drop(['Trading Status'], axis=1)\n",
    "ydf = df7['Trading Status']"
   ]
  },
  {
   "cell_type": "code",
   "execution_count": 33,
   "id": "8c68c43f",
   "metadata": {},
   "outputs": [],
   "source": [
    "scx = MinMaxScaler()\n",
    "scaled_x = scx.fit_transform(xdf)"
   ]
  },
  {
   "cell_type": "code",
   "execution_count": 34,
   "id": "71c91a25",
   "metadata": {},
   "outputs": [],
   "source": [
    "y = ydf.to_numpy()\n",
    "X = xdf.to_numpy()"
   ]
  },
  {
   "cell_type": "code",
   "execution_count": 35,
   "id": "3e4b582d",
   "metadata": {},
   "outputs": [
    {
     "name": "stdout",
     "output_type": "stream",
     "text": [
      "(9864,)\n",
      "(9864, 17)\n"
     ]
    }
   ],
   "source": [
    "print(y.shape)\n",
    "print(X.shape)"
   ]
  },
  {
   "cell_type": "code",
   "execution_count": 36,
   "id": "db04aa1b",
   "metadata": {},
   "outputs": [],
   "source": [
    "model = RandomForestClassifier(random_state=0)"
   ]
  },
  {
   "cell_type": "code",
   "execution_count": 37,
   "id": "bff102e4",
   "metadata": {},
   "outputs": [
    {
     "name": "stdout",
     "output_type": "stream",
     "text": [
      "Selected True, Rank: 1.000, Column: Cash At Bank\n",
      "Selected True, Rank: 1.000, Column: Directors Remuneration\n",
      "Selected True, Rank: 1.000, Column: EBITDA\n",
      "Selected True, Rank: 1.000, Column: Employees Remuneration\n",
      "Selected True, Rank: 1.000, Column: Intangible Assets\n",
      "Selected True, Rank: 1.000, Column: Interest Expense\n",
      "Selected True, Rank: 1.000, Column: Number of Employees\n",
      "Selected True, Rank: 1.000, Column: Profit For The Year\n",
      "Selected True, Rank: 1.000, Column: Property, Plant & Equipment\n",
      "Selected True, Rank: 1.000, Column: Retained Earnings\n",
      "Selected True, Rank: 1.000, Column: Total Assets\n",
      "Selected True, Rank: 1.000, Column: Total Current Assets\n",
      "Selected True, Rank: 1.000, Column: Total Current Liabilities\n",
      "Selected True, Rank: 1.000, Column: Total Equity\n",
      "Selected True, Rank: 1.000, Column: Total Non Current Assets\n",
      "Selected True, Rank: 1.000, Column: Total Sales / Turnover\n",
      "Selected True, Rank: 1.000, Column: Years\n"
     ]
    }
   ],
   "source": [
    "rfe = RFECV(model)\n",
    "rfe = rfe.fit(X, y)\n",
    "\n",
    "for i in range(X.shape[1]):\n",
    "    print('Selected %s, Rank: %.3f, Column: %s' % (rfe.support_[i], rfe.ranking_[i], xdf.columns[i]))"
   ]
  },
  {
   "cell_type": "code",
   "execution_count": 38,
   "id": "9932e16e",
   "metadata": {},
   "outputs": [],
   "source": [
    "x_df = df6.dropna(how='any').drop(['Trading Status'], axis=1)\n",
    "y_df = df6.dropna(how='any')['Trading Status']\n",
    "X_rfe = x_df[x_df.columns[rfe.get_support(1)]]\n",
    "# X_r = scx.fit_transform(X_rfe)"
   ]
  },
  {
   "cell_type": "code",
   "execution_count": 39,
   "id": "b82f580b",
   "metadata": {},
   "outputs": [
    {
     "data": {
      "text/html": [
       "<div>\n",
       "<style scoped>\n",
       "    .dataframe tbody tr th:only-of-type {\n",
       "        vertical-align: middle;\n",
       "    }\n",
       "\n",
       "    .dataframe tbody tr th {\n",
       "        vertical-align: top;\n",
       "    }\n",
       "\n",
       "    .dataframe thead th {\n",
       "        text-align: right;\n",
       "    }\n",
       "</style>\n",
       "<table border=\"1\" class=\"dataframe\">\n",
       "  <thead>\n",
       "    <tr style=\"text-align: right;\">\n",
       "      <th></th>\n",
       "      <th>Cash At Bank</th>\n",
       "      <th>Directors Remuneration</th>\n",
       "      <th>EBITDA</th>\n",
       "      <th>Employees Remuneration</th>\n",
       "      <th>Intangible Assets</th>\n",
       "      <th>Interest Expense</th>\n",
       "      <th>Number of Employees</th>\n",
       "      <th>Profit For The Year</th>\n",
       "      <th>Property, Plant &amp; Equipment</th>\n",
       "      <th>Retained Earnings</th>\n",
       "      <th>Total Assets</th>\n",
       "      <th>Total Current Assets</th>\n",
       "      <th>Total Current Liabilities</th>\n",
       "      <th>Total Equity</th>\n",
       "      <th>Total Non Current Assets</th>\n",
       "      <th>Total Sales / Turnover</th>\n",
       "      <th>Years</th>\n",
       "    </tr>\n",
       "  </thead>\n",
       "  <tbody>\n",
       "    <tr>\n",
       "      <th>0</th>\n",
       "      <td>1143.0</td>\n",
       "      <td>180449</td>\n",
       "      <td>-346093</td>\n",
       "      <td>1629707</td>\n",
       "      <td>0</td>\n",
       "      <td>309059</td>\n",
       "      <td>57</td>\n",
       "      <td>-636762</td>\n",
       "      <td>5576567</td>\n",
       "      <td>617128</td>\n",
       "      <td>7216172.0</td>\n",
       "      <td>1540296.0</td>\n",
       "      <td>3419378</td>\n",
       "      <td>3249408</td>\n",
       "      <td>5675876.0</td>\n",
       "      <td>5611658</td>\n",
       "      <td>68</td>\n",
       "    </tr>\n",
       "    <tr>\n",
       "      <th>5</th>\n",
       "      <td>1584330.0</td>\n",
       "      <td>225190</td>\n",
       "      <td>485428</td>\n",
       "      <td>1170260</td>\n",
       "      <td>0</td>\n",
       "      <td>0</td>\n",
       "      <td>17</td>\n",
       "      <td>367362</td>\n",
       "      <td>43881</td>\n",
       "      <td>631673</td>\n",
       "      <td>4788564.0</td>\n",
       "      <td>4744683.0</td>\n",
       "      <td>4156879</td>\n",
       "      <td>631685</td>\n",
       "      <td>43881.0</td>\n",
       "      <td>14269555</td>\n",
       "      <td>15</td>\n",
       "    </tr>\n",
       "    <tr>\n",
       "      <th>20</th>\n",
       "      <td>1656000.0</td>\n",
       "      <td>113000</td>\n",
       "      <td>3090000</td>\n",
       "      <td>4468000</td>\n",
       "      <td>1510000</td>\n",
       "      <td>71000</td>\n",
       "      <td>86</td>\n",
       "      <td>1840000</td>\n",
       "      <td>8158000</td>\n",
       "      <td>10582000</td>\n",
       "      <td>31067000.0</td>\n",
       "      <td>21399000.0</td>\n",
       "      <td>6889000</td>\n",
       "      <td>23035000</td>\n",
       "      <td>9668000.0</td>\n",
       "      <td>66895000</td>\n",
       "      <td>19</td>\n",
       "    </tr>\n",
       "    <tr>\n",
       "      <th>25</th>\n",
       "      <td>591774.0</td>\n",
       "      <td>40000</td>\n",
       "      <td>365567</td>\n",
       "      <td>557669</td>\n",
       "      <td>30000</td>\n",
       "      <td>16528</td>\n",
       "      <td>28</td>\n",
       "      <td>110590</td>\n",
       "      <td>50645</td>\n",
       "      <td>436084</td>\n",
       "      <td>5712483.0</td>\n",
       "      <td>5631837.0</td>\n",
       "      <td>5266676</td>\n",
       "      <td>436184</td>\n",
       "      <td>80646.0</td>\n",
       "      <td>20038992</td>\n",
       "      <td>3</td>\n",
       "    </tr>\n",
       "    <tr>\n",
       "      <th>30</th>\n",
       "      <td>664212.0</td>\n",
       "      <td>390248</td>\n",
       "      <td>-535858</td>\n",
       "      <td>15824628</td>\n",
       "      <td>55798</td>\n",
       "      <td>62991</td>\n",
       "      <td>729</td>\n",
       "      <td>-1074917</td>\n",
       "      <td>1991751</td>\n",
       "      <td>-1029706</td>\n",
       "      <td>11003412.0</td>\n",
       "      <td>8955863.0</td>\n",
       "      <td>3811858</td>\n",
       "      <td>1970296</td>\n",
       "      <td>2047549.0</td>\n",
       "      <td>25046348</td>\n",
       "      <td>14</td>\n",
       "    </tr>\n",
       "    <tr>\n",
       "      <th>...</th>\n",
       "      <td>...</td>\n",
       "      <td>...</td>\n",
       "      <td>...</td>\n",
       "      <td>...</td>\n",
       "      <td>...</td>\n",
       "      <td>...</td>\n",
       "      <td>...</td>\n",
       "      <td>...</td>\n",
       "      <td>...</td>\n",
       "      <td>...</td>\n",
       "      <td>...</td>\n",
       "      <td>...</td>\n",
       "      <td>...</td>\n",
       "      <td>...</td>\n",
       "      <td>...</td>\n",
       "      <td>...</td>\n",
       "      <td>...</td>\n",
       "    </tr>\n",
       "    <tr>\n",
       "      <th>68610</th>\n",
       "      <td>118479.0</td>\n",
       "      <td>574880</td>\n",
       "      <td>235039</td>\n",
       "      <td>2437239</td>\n",
       "      <td>16917</td>\n",
       "      <td>36218</td>\n",
       "      <td>66</td>\n",
       "      <td>65254</td>\n",
       "      <td>434157</td>\n",
       "      <td>653705</td>\n",
       "      <td>3158195.0</td>\n",
       "      <td>2707021.0</td>\n",
       "      <td>2269303</td>\n",
       "      <td>728705</td>\n",
       "      <td>451174.0</td>\n",
       "      <td>7828873</td>\n",
       "      <td>16</td>\n",
       "    </tr>\n",
       "    <tr>\n",
       "      <th>68615</th>\n",
       "      <td>1005.0</td>\n",
       "      <td>387582</td>\n",
       "      <td>191424</td>\n",
       "      <td>2559961</td>\n",
       "      <td>188792</td>\n",
       "      <td>127185</td>\n",
       "      <td>132</td>\n",
       "      <td>-50396</td>\n",
       "      <td>906180</td>\n",
       "      <td>902091</td>\n",
       "      <td>4828909.0</td>\n",
       "      <td>3545177.0</td>\n",
       "      <td>3100406</td>\n",
       "      <td>1460111</td>\n",
       "      <td>1283732.0</td>\n",
       "      <td>6948421</td>\n",
       "      <td>9</td>\n",
       "    </tr>\n",
       "    <tr>\n",
       "      <th>68620</th>\n",
       "      <td>63280.0</td>\n",
       "      <td>239199</td>\n",
       "      <td>274681</td>\n",
       "      <td>5374450</td>\n",
       "      <td>0</td>\n",
       "      <td>31579</td>\n",
       "      <td>246</td>\n",
       "      <td>64520</td>\n",
       "      <td>987168</td>\n",
       "      <td>966728</td>\n",
       "      <td>4927909.0</td>\n",
       "      <td>3940566.0</td>\n",
       "      <td>3249187</td>\n",
       "      <td>977228</td>\n",
       "      <td>987343.0</td>\n",
       "      <td>17484716</td>\n",
       "      <td>18</td>\n",
       "    </tr>\n",
       "    <tr>\n",
       "      <th>68640</th>\n",
       "      <td>952128.0</td>\n",
       "      <td>215105</td>\n",
       "      <td>428579</td>\n",
       "      <td>4380023</td>\n",
       "      <td>0</td>\n",
       "      <td>48106</td>\n",
       "      <td>146</td>\n",
       "      <td>313765</td>\n",
       "      <td>986118</td>\n",
       "      <td>1612441</td>\n",
       "      <td>7905433.0</td>\n",
       "      <td>6912265.0</td>\n",
       "      <td>5733852</td>\n",
       "      <td>2102130</td>\n",
       "      <td>993168.0</td>\n",
       "      <td>19058892</td>\n",
       "      <td>63</td>\n",
       "    </tr>\n",
       "    <tr>\n",
       "      <th>68645</th>\n",
       "      <td>39000.0</td>\n",
       "      <td>463000</td>\n",
       "      <td>-3639328</td>\n",
       "      <td>15367000</td>\n",
       "      <td>0</td>\n",
       "      <td>903000</td>\n",
       "      <td>411</td>\n",
       "      <td>-3270000</td>\n",
       "      <td>22852000</td>\n",
       "      <td>4803000</td>\n",
       "      <td>31188000.0</td>\n",
       "      <td>8336000.0</td>\n",
       "      <td>16004000</td>\n",
       "      <td>7732000</td>\n",
       "      <td>22852000.0</td>\n",
       "      <td>36451000</td>\n",
       "      <td>82</td>\n",
       "    </tr>\n",
       "  </tbody>\n",
       "</table>\n",
       "<p>9864 rows × 17 columns</p>\n",
       "</div>"
      ],
      "text/plain": [
       "       Cash At Bank  Directors Remuneration    EBITDA  Employees Remuneration  \\\n",
       "0            1143.0                  180449   -346093                 1629707   \n",
       "5         1584330.0                  225190    485428                 1170260   \n",
       "20        1656000.0                  113000   3090000                 4468000   \n",
       "25         591774.0                   40000    365567                  557669   \n",
       "30         664212.0                  390248   -535858                15824628   \n",
       "...             ...                     ...       ...                     ...   \n",
       "68610      118479.0                  574880    235039                 2437239   \n",
       "68615        1005.0                  387582    191424                 2559961   \n",
       "68620       63280.0                  239199    274681                 5374450   \n",
       "68640      952128.0                  215105    428579                 4380023   \n",
       "68645       39000.0                  463000  -3639328                15367000   \n",
       "\n",
       "       Intangible Assets  Interest Expense  Number of Employees  \\\n",
       "0                      0            309059                   57   \n",
       "5                      0                 0                   17   \n",
       "20               1510000             71000                   86   \n",
       "25                 30000             16528                   28   \n",
       "30                 55798             62991                  729   \n",
       "...                  ...               ...                  ...   \n",
       "68610              16917             36218                   66   \n",
       "68615             188792            127185                  132   \n",
       "68620                  0             31579                  246   \n",
       "68640                  0             48106                  146   \n",
       "68645                  0            903000                  411   \n",
       "\n",
       "       Profit For The Year  Property, Plant & Equipment  Retained Earnings  \\\n",
       "0                  -636762                      5576567             617128   \n",
       "5                   367362                        43881             631673   \n",
       "20                 1840000                      8158000           10582000   \n",
       "25                  110590                        50645             436084   \n",
       "30                -1074917                      1991751           -1029706   \n",
       "...                    ...                          ...                ...   \n",
       "68610                65254                       434157             653705   \n",
       "68615               -50396                       906180             902091   \n",
       "68620                64520                       987168             966728   \n",
       "68640               313765                       986118            1612441   \n",
       "68645             -3270000                     22852000            4803000   \n",
       "\n",
       "       Total Assets  Total Current Assets  Total Current Liabilities  \\\n",
       "0         7216172.0             1540296.0                    3419378   \n",
       "5         4788564.0             4744683.0                    4156879   \n",
       "20       31067000.0            21399000.0                    6889000   \n",
       "25        5712483.0             5631837.0                    5266676   \n",
       "30       11003412.0             8955863.0                    3811858   \n",
       "...             ...                   ...                        ...   \n",
       "68610     3158195.0             2707021.0                    2269303   \n",
       "68615     4828909.0             3545177.0                    3100406   \n",
       "68620     4927909.0             3940566.0                    3249187   \n",
       "68640     7905433.0             6912265.0                    5733852   \n",
       "68645    31188000.0             8336000.0                   16004000   \n",
       "\n",
       "       Total Equity  Total Non Current Assets  Total Sales / Turnover  Years  \n",
       "0           3249408                 5675876.0                 5611658     68  \n",
       "5            631685                   43881.0                14269555     15  \n",
       "20         23035000                 9668000.0                66895000     19  \n",
       "25           436184                   80646.0                20038992      3  \n",
       "30          1970296                 2047549.0                25046348     14  \n",
       "...             ...                       ...                     ...    ...  \n",
       "68610        728705                  451174.0                 7828873     16  \n",
       "68615       1460111                 1283732.0                 6948421      9  \n",
       "68620        977228                  987343.0                17484716     18  \n",
       "68640       2102130                  993168.0                19058892     63  \n",
       "68645       7732000                22852000.0                36451000     82  \n",
       "\n",
       "[9864 rows x 17 columns]"
      ]
     },
     "execution_count": 39,
     "metadata": {},
     "output_type": "execute_result"
    }
   ],
   "source": [
    "X_rfe"
   ]
  },
  {
   "cell_type": "code",
   "execution_count": 40,
   "id": "b90eced4",
   "metadata": {},
   "outputs": [],
   "source": [
    "X_train, X_test, y_train, y_test = train_test_split(X_rfe, y, test_size = 0.2, random_state=0)"
   ]
  },
  {
   "cell_type": "code",
   "execution_count": 41,
   "id": "33e22628",
   "metadata": {},
   "outputs": [
    {
     "data": {
      "text/plain": [
       "RandomForestClassifier(random_state=0)"
      ]
     },
     "execution_count": 41,
     "metadata": {},
     "output_type": "execute_result"
    }
   ],
   "source": [
    "model.fit(X_train, y_train)"
   ]
  },
  {
   "cell_type": "code",
   "execution_count": 42,
   "id": "41e37fe8",
   "metadata": {},
   "outputs": [],
   "source": [
    "y_pred = model.predict(X_test)\n",
    "y_proba = model.predict_proba(X_test)"
   ]
  },
  {
   "cell_type": "code",
   "execution_count": 43,
   "id": "1eafe353",
   "metadata": {},
   "outputs": [
    {
     "name": "stdout",
     "output_type": "stream",
     "text": [
      "              precision    recall  f1-score   support\n",
      "\n",
      "     Default       0.73      0.44      0.55       348\n",
      " Non-default       0.89      0.96      0.93      1625\n",
      "\n",
      "    accuracy                           0.87      1973\n",
      "   macro avg       0.81      0.70      0.74      1973\n",
      "weighted avg       0.86      0.87      0.86      1973\n",
      "\n"
     ]
    }
   ],
   "source": [
    "print(classification_report(y_test, y_pred, target_names=model.classes_))"
   ]
  },
  {
   "cell_type": "code",
   "execution_count": 44,
   "id": "e2d909a6",
   "metadata": {},
   "outputs": [
    {
     "name": "stdout",
     "output_type": "stream",
     "text": [
      "[[ 153  195]\n",
      " [  58 1567]]\n"
     ]
    }
   ],
   "source": [
    "print(confusion_matrix(y_test, y_pred))"
   ]
  },
  {
   "cell_type": "code",
   "execution_count": 141,
   "id": "5ca69c6b",
   "metadata": {},
   "outputs": [],
   "source": [
    "filename = 'classification.sav'\n",
    "pickle.dump(model, open(filename, 'wb'))"
   ]
  },
  {
   "cell_type": "code",
   "execution_count": null,
   "id": "3307cdb7",
   "metadata": {},
   "outputs": [],
   "source": []
  }
 ],
 "metadata": {
  "kernelspec": {
   "display_name": "Python 3 (ipykernel)",
   "language": "python",
   "name": "python3"
  },
  "language_info": {
   "codemirror_mode": {
    "name": "ipython",
    "version": 3
   },
   "file_extension": ".py",
   "mimetype": "text/x-python",
   "name": "python",
   "nbconvert_exporter": "python",
   "pygments_lexer": "ipython3",
   "version": "3.9.5"
  }
 },
 "nbformat": 4,
 "nbformat_minor": 5
}
